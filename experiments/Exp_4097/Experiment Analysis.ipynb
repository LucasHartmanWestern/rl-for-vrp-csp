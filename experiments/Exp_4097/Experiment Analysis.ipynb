{
 "cells": [
  {
   "cell_type": "markdown",
   "id": "a78e1081-acb0-43be-9bb8-2b4ed9d3f167",
   "metadata": {},
   "source": [
    "### Import"
   ]
  },
  {
   "cell_type": "code",
   "execution_count": 1,
   "id": "a2ae1e0b-6f40-4fc0-9838-222cf77e80da",
   "metadata": {},
   "outputs": [],
   "source": [
    "import sys\n",
    "import os\n",
    "sys.path.append(os.path.abspath('../../'))\n",
    "\n",
    "from evaluation import *\n",
    "from data_loader import *\n",
    "import random\n",
    "from datetime import datetime"
   ]
  },
  {
   "cell_type": "markdown",
   "id": "07b72c3b-2e0a-4a12-a7d2-796eb8464695",
   "metadata": {},
   "source": [
    "### Get Config\n",
    "Note that the below cell fetches all of the config data which is also used to train the models. This code will not run if you have not already completed a training simulation at some point with the same config parameters. If you have run the training already, you can set the `train_model` parameter in the `evaluation_congfig.yaml` file to `False` so that you can get the results without having to run the training again."
   ]
  },
  {
   "cell_type": "code",
   "execution_count": 14,
   "id": "cf0083ae-1be4-416e-ab83-b72f2de63a39",
   "metadata": {},
   "outputs": [],
   "source": [
    "config_fname = 'config.yaml'\n",
    "\n",
    "c = load_config_file(config_fname)\n",
    "nn_c = c['nn_hyperparameters']\n",
    "federated_c = c['federated_learning_settings']\n",
    "algo_c = c['algorithm_settings']\n",
    "env_c = c['environment_settings']\n",
    "eval_c = c['eval_config']\n",
    "\n",
    "verbose = eval_c['verbose']\n",
    "\n",
    "if eval_c['fixed_attributes'] != [0, 1] and eval_c['fixed_attributes'] != [1, 0] and eval_c['fixed_attributes'] != [0.5, 0.5]:\n",
    "    attr_label = 'learned'\n",
    "else:\n",
    "    fixed_attributes = eval_c['fixed_attributes']\n",
    "    attr_label = f'{fixed_attributes[0]}_{fixed_attributes[1]}'\n",
    "\n",
    "current_datetime = datetime.now()\n",
    "date = current_datetime.strftime('%Y-%m-%d_%H-%M')"
   ]
  },
  {
   "cell_type": "markdown",
   "id": "b8673bc2-3383-4055-a638-ed17341c3385",
   "metadata": {},
   "source": [
    "### Get EV Info"
   ]
  },
  {
   "cell_type": "code",
   "execution_count": 3,
   "id": "b09708b8-870b-4dcc-b10c-4a286624eeab",
   "metadata": {},
   "outputs": [],
   "source": [
    "ev_info = []\n",
    "\n",
    "seed = env_c['seed']\n",
    "\n",
    "# Assign seed\n",
    "random.seed(seed)\n",
    "# Creating and seeding a random generaton from Numpy\n",
    "rng = np.random.default_rng(seed)\n",
    "\n",
    "for _ in env_c['coords']:\n",
    "    # Generate a random model index for each agent\n",
    "    model_indices = np.array([random.randrange(3) for agent in range(env_c['num_of_cars'])], dtype=int)\n",
    "\n",
    "    # Use the indices to select the model type and corresponding configurations\n",
    "    model_type = np.array([env_c['models'][index] for index in model_indices], dtype=str)\n",
    "    usage_per_hour = np.array([env_c['usage_per_hour'][index] for index in model_indices], dtype=int)\n",
    "    max_charge = np.array([env_c['max_charge'][index] for index in model_indices], dtype=int)\n",
    "\n",
    "    start_time = time.time()\n",
    "    # Random charge between 0.5-x%, where x scales between 1-25% as sessions continue\n",
    "    starting_charge = env_c['starting_charge'] + 2000*(rng.random(env_c['num_of_cars'])-0.5)\n",
    "    elapsed_time = time.time() - start_time\n",
    "\n",
    "    # Define a structured array\n",
    "    dtypes = [('starting_charge', float),\n",
    "                ('max_charge', int),\n",
    "                ('usage_per_hour', int),\n",
    "                ('model_type', 'U50'),  # Adjust string length as needed\n",
    "                ('model_indices', int)]\n",
    "    info = np.zeros(env_c['num_of_cars'], dtype=dtypes)\n",
    "\n",
    "    # Assign values\n",
    "    info['starting_charge'] = starting_charge\n",
    "    info['max_charge'] = max_charge\n",
    "    info['usage_per_hour'] = usage_per_hour\n",
    "    info['model_type'] = model_type\n",
    "    info['model_indices'] = model_indices\n",
    "\n",
    "    ev_info.append(info)"
   ]
  },
  {
   "cell_type": "markdown",
   "id": "0dcdd6fa-2379-4f45-af3c-95132b64d458",
   "metadata": {},
   "source": [
    "### Load Metrics"
   ]
  },
  {
   "cell_type": "code",
   "execution_count": 4,
   "id": "eb7aa649-de91-4aca-80d7-94ec36937235",
   "metadata": {},
   "outputs": [],
   "source": [
    "algorithm_dm = algo_c['algorithm']\n",
    "\n",
    "experiment_path = os.getcwd()\n",
    "experiment_number = os.path.basename(experiment_path).split()[-1]\n",
    "\n",
    "def load_from_json_with_error_handling(filepath):\n",
    "    try:\n",
    "        return read_csv_data(filepath)\n",
    "    except json.JSONDecodeError as e:\n",
    "        print(f\"Error decoding JSON from {filepath}: {e.msg} at line {e.lineno}, column {e.colno}\")\n",
    "        return None  # Handle the error and return None or an empty object\n",
    "\n",
    "d_base = f\"../../../../../storage_1/metrics/{experiment_number}\"\n",
    "        \n",
    "base_path = f\"{d_base}/train/metrics\"\n",
    "\n",
    "# Load each JSON file with error handling\n",
    "agent_data = load_from_json_with_error_handling(f'{base_path}_agent_metrics.csv')\n",
    "station_data = load_from_json_with_error_handling(f'{base_path}_station_metrics.csv')"
   ]
  },
  {
   "cell_type": "markdown",
   "id": "83ee50db-ff70-4957-8da1-76dc9a19779f",
   "metadata": {},
   "source": [
    "### Routes of Last Episode"
   ]
  },
  {
   "cell_type": "code",
   "execution_count": null,
   "id": "81140ab5-47e2-4f6f-8b63-cb804ff2d206",
   "metadata": {},
   "outputs": [],
   "source": [
    "from evaluation import draw_map_of_last_episode\n",
    "draw_map_of_last_episode(agent_data, seed, algorithm_dm)"
   ]
  },
  {
   "cell_type": "markdown",
   "id": "f5813761-f475-45e7-8011-90e85d6035b4",
   "metadata": {},
   "source": [
    "### Distance Metrics"
   ]
  },
  {
   "cell_type": "code",
   "execution_count": null,
   "id": "382b459e-8c53-4267-8a93-5f575aa83587",
   "metadata": {},
   "outputs": [],
   "source": [
    "### Distance Metrics\n",
    "evaluate_by_agent(agent_data, 'distance', 'Distance Travelled (km)', seed, verbose, nn_c['num_episodes'], algorithm_dm)"
   ]
  },
  {
   "cell_type": "markdown",
   "id": "9d51fd63-ae4e-4dcf-a1e5-ea355b8ba4fc",
   "metadata": {},
   "source": [
    "### Average Battery Metrics"
   ]
  },
  {
   "cell_type": "code",
   "execution_count": null,
   "id": "33ea80cc-2446-4e03-88b0-4f1c2c1b869e",
   "metadata": {},
   "outputs": [],
   "source": [
    "### Average Battery Metrics\n",
    "evaluate_by_agent(agent_data, 'average_battery', 'Battery Level (Watts)', seed, verbose, nn_c['num_episodes'], algorithm_dm)"
   ]
  },
  {
   "cell_type": "markdown",
   "id": "67786be0-aa30-4dbc-9e94-f15cb793d0d3",
   "metadata": {},
   "source": [
    "### Ending Battery Metrics"
   ]
  },
  {
   "cell_type": "code",
   "execution_count": null,
   "id": "3c711d74-d75f-448f-ac18-cfd223898a56",
   "metadata": {},
   "outputs": [],
   "source": [
    "### Ending Battery Metrics\n",
    "evaluate_by_agent(agent_data, 'ending_battery', 'Ending Battery Level (Watts)', seed, verbose, nn_c['num_episodes'], algorithm_dm)"
   ]
  },
  {
   "cell_type": "markdown",
   "id": "e9bf2828-428b-48f5-923e-f8dccd38671d",
   "metadata": {},
   "source": [
    "### Time Spent Travelling Metrics"
   ]
  },
  {
   "cell_type": "code",
   "execution_count": null,
   "id": "17deeb20-24a3-4e39-b9d2-ddd7e091ec50",
   "metadata": {},
   "outputs": [],
   "source": [
    "### Time Spent Travelling Metrics\n",
    "evaluate_by_agent(agent_data, 'duration', 'Time Spent Travelling (Steps)', seed, verbose, nn_c['num_episodes'], algorithm_dm)"
   ]
  },
  {
   "cell_type": "markdown",
   "id": "897cec8d-2548-4b69-81e6-b2c1a1546157",
   "metadata": {},
   "source": [
    "### Reward Metrics"
   ]
  },
  {
   "cell_type": "code",
   "execution_count": null,
   "id": "b7953319-9377-47db-9849-b07e760073a9",
   "metadata": {},
   "outputs": [],
   "source": [
    "evaluate_by_agent(agent_data, 'reward', 'Simulation Reward', seed, verbose, nn_c['num_episodes'], algorithm_dm)"
   ]
  },
  {
   "cell_type": "markdown",
   "id": "d56d417d-ff56-4943-9825-9d8e1835370c",
   "metadata": {},
   "source": [
    "### Traffic Metrics"
   ]
  },
  {
   "cell_type": "code",
   "execution_count": null,
   "id": "1659e59d-836e-4cfa-b9a3-d1d06b903ba0",
   "metadata": {},
   "outputs": [],
   "source": [
    "### Traffic Metrics\n",
    "evaluate_by_station(station_data, seed, verbose, nn_c['num_episodes'], algorithm_dm)"
   ]
  },
  {
   "cell_type": "markdown",
   "id": "1fe3c60c",
   "metadata": {},
   "source": [
    "### Training Duration Metrics"
   ]
  },
  {
   "cell_type": "code",
   "execution_count": null,
   "id": "0e2d3404",
   "metadata": {},
   "outputs": [],
   "source": [
    "# Sum the time it takes for each episode to train to get the total training time\n",
    "unique_episodes_zones = agent_data.drop_duplicates(subset=['episode', 'timestep', 'aggregation', 'zone'])\n",
    "total_time_to_train = unique_episodes_zones['timestep_real_world_time'].sum() / unique_episodes_zones['zone'].nunique()\n",
    "\n",
    "# Output the total time to train and the number of episodes and aggregations\n",
    "print(f\"Total time to train: {total_time_to_train}\")\n",
    "print(f\"Number of episodes: {nn_c['num_episodes']}\")\n",
    "print(f\"Number of aggregations: {federated_c['aggregation_count']}\")\n",
    "print(f\"Average time per episode: {total_time_to_train / (nn_c['num_episodes'] * federated_c['aggregation_count'])}\")\n",
    "\n",
    "#evaluate_by_agent(agent_data, 'timestep_real_world_time', 'Duration Training', seed, verbose, nn_c['num_episodes'], algorithm_dm)"
   ]
  }
 ],
 "metadata": {
  "kernelspec": {
   "display_name": "Python 3 (ipykernel)",
   "language": "python",
   "name": "python3"
  },
  "language_info": {
   "codemirror_mode": {
    "name": "ipython",
    "version": 3
   },
   "file_extension": ".py",
   "mimetype": "text/x-python",
   "name": "python",
   "nbconvert_exporter": "python",
   "pygments_lexer": "ipython3",
   "version": "3.10.9"
  }
 },
 "nbformat": 4,
 "nbformat_minor": 5
}
