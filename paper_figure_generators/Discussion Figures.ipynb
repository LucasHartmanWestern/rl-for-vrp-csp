{
 "cells": [
  {
   "cell_type": "markdown",
   "id": "6d5bdbcd",
   "metadata": {},
   "source": [
    "### Imports"
   ]
  },
  {
   "cell_type": "code",
   "execution_count": 1,
   "id": "45773e86-ab4f-42f0-b5c2-eb9893e550ae",
   "metadata": {},
   "outputs": [],
   "source": [
    "import numpy as np\n",
    "import matplotlib.pyplot as plt"
   ]
  },
  {
   "cell_type": "markdown",
   "id": "aafebf72",
   "metadata": {},
   "source": [
    "### Config"
   ]
  },
  {
   "cell_type": "code",
   "execution_count": 2,
   "id": "05f179a2-7dd0-4b64-a41b-36d53d61dc15",
   "metadata": {},
   "outputs": [],
   "source": [
    "colors = {\n",
    "    \"DQN\": 'darkorange',\n",
    "    \"REINFORCE\": 'forestgreen',\n",
    "    \"CMA-ES\": 'cyan',\n",
    "    \"ODT\": 'blueviolet',\n",
    "}"
   ]
  },
  {
   "cell_type": "markdown",
   "id": "8abfd38a",
   "metadata": {},
   "source": [
    "## Figure 5"
   ]
  },
  {
   "cell_type": "markdown",
   "id": "f4d6519c",
   "metadata": {},
   "source": [
    "### Loading data"
   ]
  },
  {
   "cell_type": "code",
   "execution_count": null,
   "id": "2ecde91e",
   "metadata": {},
   "outputs": [],
   "source": [
    "raw_data = {\n",
    "    \"DQN\": {\n",
    "        \"Training Duration\": 24.17,\n",
    "        \"Reward\": -64.13,\n",
    "        \"Emissions\": 0.44,\n",
    "        \"Peak Traffic\": 26,\n",
    "        \"Distance\": 37.12,\n",
    "        \"Energy\": 19.38\n",
    "    },\n",
    "    \"ODT\": {\n",
    "        \"Training Duration\": 37.97,\n",
    "        \"Reward\": -62.22,\n",
    "        \"Emissions\": 2.24,\n",
    "        \"Peak Traffic\": 26,\n",
    "        \"Distance\": 36.61,\n",
    "        \"Energy\": 19.22\n",
    "    },\n",
    "    \"REINFORCE\": {\n",
    "        \"Training Duration\": 20.32,\n",
    "        \"Reward\": -63.35,\n",
    "        \"Emissions\": 0.35,\n",
    "        \"Peak Traffic\": 25,\n",
    "        \"Distance\": 36.88,\n",
    "        \"Energy\": 19.38\n",
    "    }\n",
    "}"
   ]
  },
  {
   "cell_type": "markdown",
   "id": "b185b040",
   "metadata": {},
   "source": [
    "### Displaying figure"
   ]
  },
  {
   "cell_type": "code",
   "execution_count": null,
   "id": "f3780e40",
   "metadata": {},
   "outputs": [],
   "source": [
    "def scale_data_to_20_100(data, invert_metrics=None, feature_range=(20,100)):\n",
    "    \"\"\"\n",
    "    Scale every metric in `data` to the range [20,100].\n",
    "    If a metric name is in `invert_metrics`, we flip its min/max\n",
    "    so that lower raw values become higher scaled scores.\n",
    "    \"\"\"\n",
    "    # figure out which metrics exist\n",
    "    features = list(next(iter(data.values())).keys())\n",
    "    lower, upper = feature_range\n",
    "\n",
    "    # compute raw mins & maxs\n",
    "    mins = {f: min(d[f] for d in data.values()) for f in features}\n",
    "    maxs = {f: max(d[f] for d in data.values()) for f in features}\n",
    "\n",
    "    # by default, invert everything except Reward\n",
    "    if invert_metrics is None:\n",
    "        invert_metrics = [f for f in features if f != 'Reward']\n",
    "\n",
    "    scaled = {}\n",
    "    for alg, feats in data.items():\n",
    "        scaled[alg] = {}\n",
    "        for f, v in feats.items():\n",
    "            # if this metric should be inverted, swap min & max\n",
    "            if f in invert_metrics:\n",
    "                min_v, max_v = maxs[f], mins[f]\n",
    "            else:\n",
    "                min_v, max_v = mins[f], maxs[f]\n",
    "\n",
    "            # if no variation, put it in the middle\n",
    "            if max_v == min_v:\n",
    "                scaled_val = (lower + upper) / 2\n",
    "            else:\n",
    "                # standard min–max remap into [lower,upper]\n",
    "                scaled_val = (v - min_v) / (max_v - min_v) * (upper - lower) + lower\n",
    "\n",
    "            # numerical safety\n",
    "            scaled_val = max(lower, min(upper, scaled_val))\n",
    "            scaled[alg][f] = scaled_val\n",
    "\n",
    "    return scaled\n",
    "\n",
    "def make_fifa_radar(data, title=None):\n",
    "    categories = list(next(iter(data.values())).keys())\n",
    "    N = len(categories)\n",
    "    angles = np.linspace(0, 2*np.pi, N, endpoint=False).tolist()\n",
    "    angles += angles[:1]\n",
    "\n",
    "    fig, ax = plt.subplots(figsize=(6,6), subplot_kw=dict(polar=True))\n",
    "    ax.set_theta_offset(np.pi/2)\n",
    "    ax.set_theta_direction(-1)\n",
    "\n",
    "    plt.xticks(angles[:-1], categories, color='grey', size=11)\n",
    "    ax.tick_params(axis='x', which='major', pad=10)\n",
    "    plt.yticks([20,40,60,80], [\"20\",\"40\",\"60\",\"80\"], color=\"none\", size=9)\n",
    "    plt.ylim(0,100)\n",
    "\n",
    "    for alg, scores in data.items():\n",
    "        vals = list(scores.values()) + [list(scores.values())[0]]\n",
    "        c = colors.get(alg, 'grey')  # default to grey if missing\n",
    "        ax.plot(angles, vals, color=c, linewidth=2, label=alg)\n",
    "        ax.fill(angles, vals, color=c, alpha=0.25)\n",
    "\n",
    "    if title:\n",
    "        plt.title(title, size=15, y=1.08)\n",
    "    plt.legend(loc='upper right', bbox_to_anchor=(1.3,1.1))\n",
    "    plt.tight_layout()\n",
    "\n",
    "    plt.savefig('./Figures/dm_profiles.png', dpi=300, bbox_inches='tight')\n",
    "\n",
    "    plt.show()\n",
    "\n",
    "scaled = scale_data_to_20_100(raw_data)\n",
    "\n",
    "make_fifa_radar(scaled)"
   ]
  }
 ],
 "metadata": {
  "kernelspec": {
   "display_name": "Python 3 (ipykernel)",
   "language": "python",
   "name": "python3"
  },
  "language_info": {
   "codemirror_mode": {
    "name": "ipython",
    "version": 3
   },
   "file_extension": ".py",
   "mimetype": "text/x-python",
   "name": "python",
   "nbconvert_exporter": "python",
   "pygments_lexer": "ipython3",
   "version": "3.8.19"
  }
 },
 "nbformat": 4,
 "nbformat_minor": 5
}
