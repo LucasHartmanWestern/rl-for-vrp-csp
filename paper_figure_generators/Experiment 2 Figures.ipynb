{
 "cells": [
  {
   "cell_type": "markdown",
   "id": "6d5bdbcd",
   "metadata": {},
   "source": [
    "### Imports"
   ]
  },
  {
   "cell_type": "code",
   "execution_count": 1,
   "id": "45773e86-ab4f-42f0-b5c2-eb9893e550ae",
   "metadata": {},
   "outputs": [],
   "source": [
    "import sys\n",
    "import os\n",
    "sys.path.append(os.path.abspath('../'))\n",
    "\n",
    "import random\n",
    "from datetime import datetime"
   ]
  },
  {
   "cell_type": "markdown",
   "id": "aafebf72",
   "metadata": {},
   "source": [
    "### Config"
   ]
  },
  {
   "cell_type": "code",
   "execution_count": 2,
   "id": "05f179a2-7dd0-4b64-a41b-36d53d61dc15",
   "metadata": {},
   "outputs": [],
   "source": [
    "colors = {\n",
    "    \"DQN\": 'darkorange',\n",
    "    \"REINFORCE\": 'forestgreen',\n",
    "    \"ODT\": 'blueviolet',\n",
    "}\n",
    "\n",
    "season_colors = {\n",
    "    \"winter\": 'blue',\n",
    "    \"spring\": 'forestgreen',\n",
    "    \"summer\": 'gold',\n",
    "    \"autumn\": 'darkorange'\n",
    "}\n",
    "\n",
    "exp_lists_preformatted = [\n",
    "    '4000_4179.csv', '5000_5179.csv', '6000_6179.csv', '4108_4179.csv', '5108_5179.csv', '6108_6179.csv'\n",
    "] # Existing formatted datasets"
   ]
  },
  {
   "cell_type": "markdown",
   "id": "8abfd38a",
   "metadata": {},
   "source": [
    "## Table 1"
   ]
  },
  {
   "cell_type": "markdown",
   "id": "f4d6519c",
   "metadata": {},
   "source": [
    "### Loading data"
   ]
  },
  {
   "cell_type": "code",
   "execution_count": null,
   "id": "2ecde91e",
   "metadata": {},
   "outputs": [],
   "source": [
    "# Define the file path with starting_exp and ending_exp variables\n",
    "file_path_for_processed_data = f'../../../../storage_1/metrics/formatted_experiment_data/part_4/'\n",
    "\n",
    "if len(exp_lists_preformatted) > 0:\n",
    "    agent_dataframes = []\n",
    "    \n",
    "    # Load and combine datasets\n",
    "    for existing_set in exp_lists_preformatted:\n",
    "        loaded_dataset = pd.read_csv(f\"{file_path_for_processed_data}/agent_{existing_set}\")\n",
    "        # Combine datasets\n",
    "        agent_dataframes.append(loaded_dataset)\n",
    "\n",
    "    cumulative_agent_df = pd.concat(agent_dataframes, ignore_index=True)\n",
    "\n",
    "    station_dataframes = []\n",
    "    \n",
    "    # Load and combine datasets\n",
    "    for existing_set in exp_lists_preformatted:\n",
    "        loaded_dataset = pd.read_csv(f\"{file_path_for_processed_data}/station_{existing_set}\")\n",
    "        # Combine datasets\n",
    "        station_dataframes.append(loaded_dataset)\n",
    "\n",
    "    cumulative_station_df = pd.concat(station_dataframes, ignore_index=True)"
   ]
  },
  {
   "cell_type": "markdown",
   "id": "b185b040",
   "metadata": {},
   "source": [
    "### Printing data for table"
   ]
  },
  {
   "cell_type": "code",
   "execution_count": null,
   "id": "f3780e40",
   "metadata": {},
   "outputs": [],
   "source": [
    "\n",
    "algos = cumulative_agent_df['algorithm'].unique()\n",
    "\n",
    "# Determine list of seasons (only needed if load_agent or load_station)\n",
    "seasons = sorted(cumulative_agent_df['season'].unique())\n",
    "\n",
    "results = []\n",
    "\n",
    "for algo in algos:\n",
    "    print(f\"===== Algorithm: {algo} =====\\n\")\n",
    "\n",
    "    if seasons is not None:\n",
    "        for season in seasons:\n",
    "            print(f\"  Season: {season}\")\n",
    "            a_season = cumulative_agent_df[\n",
    "                (cumulative_agent_df['algorithm'] == algo) &\n",
    "                (cumulative_agent_df['season'] == season)\n",
    "            ]\n",
    "            if not a_season.empty:\n",
    "                print(\"    Agent:\")\n",
    "                print(f\"      Avg Distance : {a_season['distance_traveled'].mean():.2f}\")\n",
    "                print(f\"      Dist Std Dev : {a_season['distance_traveled'].std():.2f}\")\n",
    "                print(f\"      Avg Energy Used (Wh)  : {a_season['energy_used'].mean():.2f}\")\n",
    "                print(f\"      Energy Std Dev (Wh) : {a_season['energy_used'].std():.2f}\")\n",
    "                print(f\"      Avg Reward   : {a_season['reward'].mean():.2f}\")\n",
    "                print(f\"      Reward Std   : {a_season['reward'].std():.2f}\")\n",
    "\n",
    "            s_season = cumulative_station_df[\n",
    "                (cumulative_station_df['algorithm'] == algo) &\n",
    "                (cumulative_station_df['season'] == season)\n",
    "            ]\n",
    "            if not s_season.empty:\n",
    "                print(\"    Station:\")\n",
    "                print(f\"      Max Traffic   : {s_season['traffic'].max():.2f}\")\n",
    "                print(f\"      Traffic Std   : {s_season['traffic'].std():.2f}\")\n",
    "            print()  # blank line between seasons\n",
    "\n",
    "            results.append([algo, season, a_season['distance_traveled'].mean(), a_season['distance_traveled'].std(), a_season['energy_used'].mean(), a_season['energy_used'].std(), s_season['traffic'].max(), s_season['traffic'].std()])\n",
    "\n",
    "    print(\"\\n\")  # extra space between algorithms\n",
    "\n",
    "results_df = pd.DataFrame(results, columns=[\"Algorithm\", \"Season\", \"Avg Distance\", \"Distance Std Dev\", \"Avg Energy Used (Wh)\", \"Energy Used Std Dev (Wh)\", \"Peak Traffic\"])\n",
    "results_df.to_csv('./table_data/table_1.csv', index=False)"
   ]
  }
 ],
 "metadata": {
  "kernelspec": {
   "display_name": "Python 3 (ipykernel)",
   "language": "python",
   "name": "python3"
  },
  "language_info": {
   "codemirror_mode": {
    "name": "ipython",
    "version": 3
   },
   "file_extension": ".py",
   "mimetype": "text/x-python",
   "name": "python",
   "nbconvert_exporter": "python",
   "pygments_lexer": "ipython3",
   "version": "3.8.19"
  }
 },
 "nbformat": 4,
 "nbformat_minor": 5
}
