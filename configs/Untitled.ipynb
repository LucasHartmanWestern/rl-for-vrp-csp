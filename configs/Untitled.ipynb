{
 "cells": [
  {
   "cell_type": "code",
   "execution_count": 1,
   "id": "1bdf43fc-6abd-4eaa-90e0-cb09943d4066",
   "metadata": {},
   "outputs": [],
   "source": [
    "import yaml"
   ]
  },
  {
   "cell_type": "code",
   "execution_count": 11,
   "id": "e1ccd299-62e0-4bfd-8032-cfd56eac1b8d",
   "metadata": {},
   "outputs": [
    {
     "name": "stdout",
     "output_type": "stream",
     "text": [
      "{'algorithm': 'DQN', 'configuration': {'train_model': True, 'start_from_previous_session': False, 'save_data': False, 'generate_plots': False, 'save_aggregate_rewards': True, 'continue_training': False}, 'environment_settings': {'seeds': '1000 * thread_num', 'num_of_agents': 75, 'num_of_chargers': 3, 'make': 0, 'model': 0, 'max_charge': 100000, 'coords': ['(43.02120034946083', '-81.28349087468504)', '(43.004969336049854', '-81.18631870502043)', '(42.95923445066671', '-81.26016049362336)', '(42.98111190139387', '-81.30953935839466)', '(42.9819404397449', '-81.2508736429095)'], 'radius': 20, 'starting_charge': ['6000 for agent in range(num_of_agents)']}}\n"
     ]
    }
   ],
   "source": [
    "fname = 'default.yaml'\n",
    "with open(fname, 'r') as stream:\n",
    "    try:\n",
    "        # Converts yaml document to python object\n",
    "        d=yaml.safe_load(stream)\n",
    "\n",
    "        # Printing dictionary\n",
    "        print(d)\n",
    "    except yaml.YAMLError as e:\n",
    "        print(e)"
   ]
  },
  {
   "cell_type": "code",
   "execution_count": 10,
   "id": "bbdfb934-3855-4d3e-ac0e-96ef4f1d10c0",
   "metadata": {},
   "outputs": [
    {
     "name": "stdout",
     "output_type": "stream",
     "text": [
      "algorithm : DQN\n",
      "configuration : {'train_model': True, 'start_from_previous_session': False, 'save_data': False, 'generate_plots': False, 'save_aggregate_rewards': True, 'continue_training': False}\n",
      "environment_settings : {'seeds': '1000 * thread_num', 'num_of_agents': 75, 'num_of_chargers': 3, 'make': 0, 'model': 0, 'max_charge': 100000, 'coords': ['(43.02120034946083', '-81.28349087468504)', '(43.004969336049854', '-81.18631870502043)', '(42.95923445066671', '-81.26016049362336)', '(42.98111190139387', '-81.30953935839466)', '(42.9819404397449', '-81.2508736429095)'], 'radius': 20, 'starting_charge': ['6000 for agent in range(num_of_agents)']}\n"
     ]
    }
   ],
   "source": [
    "from yaml import load\n",
    "try:\n",
    "    from yaml import CLoader as Loader\n",
    "except ImportError:\n",
    "    from yaml import Loader\n",
    "\n",
    "stream = open(fname, 'r')\n",
    "dictionary = yaml.safe_load(stream)\n",
    "for key, value in dictionary.items():\n",
    "    print (key + \" : \" + str(value))"
   ]
  },
  {
   "cell_type": "code",
   "execution_count": 17,
   "id": "8a51b986-b5cf-45b4-9872-a359cc60e3d4",
   "metadata": {},
   "outputs": [
    {
     "data": {
      "text/plain": [
       "True"
      ]
     },
     "execution_count": 17,
     "metadata": {},
     "output_type": "execute_result"
    }
   ],
   "source": [
    "d['configuration']['train_model']"
   ]
  },
  {
   "cell_type": "code",
   "execution_count": 1,
   "id": "699956ac-42b2-4e50-b31c-2eac0fe14897",
   "metadata": {},
   "outputs": [],
   "source": [
    "import torch\n",
    "import numpy as np"
   ]
  },
  {
   "cell_type": "code",
   "execution_count": 2,
   "id": "d474a760-e5e3-4b2d-96d0-906e52593301",
   "metadata": {},
   "outputs": [
    {
     "data": {
      "text/plain": [
       "array([[0.97669977, 0.38019574, 0.92324623],\n",
       "       [0.26169242, 0.31909706, 0.11809123],\n",
       "       [0.24176629, 0.31853393, 0.96407925]])"
      ]
     },
     "execution_count": 2,
     "metadata": {},
     "output_type": "execute_result"
    }
   ],
   "source": [
    "rng = np.random.default_rng(seed=1234)\n",
    "rng.random((3,3))"
   ]
  },
  {
   "cell_type": "code",
   "execution_count": 3,
   "id": "2740164e-0ed8-4644-8824-c3f271195260",
   "metadata": {},
   "outputs": [
    {
     "data": {
      "text/plain": [
       "array([0.2636498 , 0.44100612, 0.60987081, 0.8636213 , 0.86375767])"
      ]
     },
     "execution_count": 3,
     "metadata": {},
     "output_type": "execute_result"
    }
   ],
   "source": [
    "rng.random(5)"
   ]
  },
  {
   "cell_type": "code",
   "execution_count": 4,
   "id": "edddfae4-4a94-43c7-a749-6fc308069fcc",
   "metadata": {},
   "outputs": [
    {
     "data": {
      "text/plain": [
       "array([6349.7626267 , 6319.74869592, 6471.51539663])"
      ]
     },
     "execution_count": 4,
     "metadata": {},
     "output_type": "execute_result"
    }
   ],
   "source": [
    "starting = 6000\n",
    "# starting_charge[agent] += 1000 * random.randrange(-1, 1)\n",
    "#\n",
    "random_charged_level = starting + 2000*(rng.random(3)-0.5)\n",
    "random_charged_level\n"
   ]
  },
  {
   "cell_type": "code",
   "execution_count": 6,
   "id": "d37800e7-fc09-4f7c-9d83-f7d5b0f1ac0d",
   "metadata": {},
   "outputs": [
    {
     "data": {
      "text/plain": [
       "array([7386, 2227, 8670, 1720, 7887])"
      ]
     },
     "execution_count": 6,
     "metadata": {},
     "output_type": "execute_result"
    }
   ],
   "source": [
    "rng.integers(low=0, high=10000,size=5)"
   ]
  },
  {
   "cell_type": "code",
   "execution_count": null,
   "id": "582374ae-aba2-4847-b148-d6b7f0d0dd09",
   "metadata": {},
   "outputs": [],
   "source": []
  }
 ],
 "metadata": {
  "kernelspec": {
   "display_name": "Python 3 (ipykernel)",
   "language": "python",
   "name": "python3"
  },
  "language_info": {
   "codemirror_mode": {
    "name": "ipython",
    "version": 3
   },
   "file_extension": ".py",
   "mimetype": "text/x-python",
   "name": "python",
   "nbconvert_exporter": "python",
   "pygments_lexer": "ipython3",
   "version": "3.10.9"
  }
 },
 "nbformat": 4,
 "nbformat_minor": 5
}
