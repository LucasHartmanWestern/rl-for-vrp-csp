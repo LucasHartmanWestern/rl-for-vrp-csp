{
 "cells": [
  {
   "cell_type": "code",
   "execution_count": 1,
   "id": "1bdf43fc-6abd-4eaa-90e0-cb09943d4066",
   "metadata": {},
   "outputs": [],
   "source": [
    "import yaml"
   ]
  },
  {
   "cell_type": "code",
   "execution_count": 11,
   "id": "e1ccd299-62e0-4bfd-8032-cfd56eac1b8d",
   "metadata": {},
   "outputs": [
    {
     "name": "stdout",
     "output_type": "stream",
     "text": [
      "{'algorithm': 'DQN', 'configuration': {'train_model': True, 'start_from_previous_session': False, 'save_data': False, 'generate_plots': False, 'save_aggregate_rewards': True, 'continue_training': False}, 'environment_settings': {'seeds': '1000 * thread_num', 'num_of_agents': 75, 'num_of_chargers': 3, 'make': 0, 'model': 0, 'max_charge': 100000, 'coords': ['(43.02120034946083', '-81.28349087468504)', '(43.004969336049854', '-81.18631870502043)', '(42.95923445066671', '-81.26016049362336)', '(42.98111190139387', '-81.30953935839466)', '(42.9819404397449', '-81.2508736429095)'], 'radius': 20, 'starting_charge': ['6000 for agent in range(num_of_agents)']}}\n"
     ]
    }
   ],
   "source": [
    "fname = 'default.yaml'\n",
    "with open(fname, 'r') as stream:\n",
    "    try:\n",
    "        # Converts yaml document to python object\n",
    "        d=yaml.safe_load(stream)\n",
    "\n",
    "        # Printing dictionary\n",
    "        print(d)\n",
    "    except yaml.YAMLError as e:\n",
    "        print(e)"
   ]
  },
  {
   "cell_type": "code",
   "execution_count": 10,
   "id": "bbdfb934-3855-4d3e-ac0e-96ef4f1d10c0",
   "metadata": {},
   "outputs": [
    {
     "name": "stdout",
     "output_type": "stream",
     "text": [
      "algorithm : DQN\n",
      "configuration : {'train_model': True, 'start_from_previous_session': False, 'save_data': False, 'generate_plots': False, 'save_aggregate_rewards': True, 'continue_training': False}\n",
      "environment_settings : {'seeds': '1000 * thread_num', 'num_of_agents': 75, 'num_of_chargers': 3, 'make': 0, 'model': 0, 'max_charge': 100000, 'coords': ['(43.02120034946083', '-81.28349087468504)', '(43.004969336049854', '-81.18631870502043)', '(42.95923445066671', '-81.26016049362336)', '(42.98111190139387', '-81.30953935839466)', '(42.9819404397449', '-81.2508736429095)'], 'radius': 20, 'starting_charge': ['6000 for agent in range(num_of_agents)']}\n"
     ]
    }
   ],
   "source": [
    "from yaml import load\n",
    "try:\n",
    "    from yaml import CLoader as Loader\n",
    "except ImportError:\n",
    "    from yaml import Loader\n",
    "\n",
    "stream = open(fname, 'r')\n",
    "dictionary = yaml.safe_load(stream)\n",
    "for key, value in dictionary.items():\n",
    "    print (key + \" : \" + str(value))"
   ]
  },
  {
   "cell_type": "code",
   "execution_count": 17,
   "id": "8a51b986-b5cf-45b4-9872-a359cc60e3d4",
   "metadata": {},
   "outputs": [
    {
     "data": {
      "text/plain": [
       "True"
      ]
     },
     "execution_count": 17,
     "metadata": {},
     "output_type": "execute_result"
    }
   ],
   "source": [
    "d['configuration']['train_model']"
   ]
  },
  {
   "cell_type": "code",
   "execution_count": null,
   "id": "699956ac-42b2-4e50-b31c-2eac0fe14897",
   "metadata": {},
   "outputs": [],
   "source": []
  }
 ],
 "metadata": {
  "kernelspec": {
   "display_name": "Python 3 (ipykernel)",
   "language": "python",
   "name": "python3"
  },
  "language_info": {
   "codemirror_mode": {
    "name": "ipython",
    "version": 3
   },
   "file_extension": ".py",
   "mimetype": "text/x-python",
   "name": "python",
   "nbconvert_exporter": "python",
   "pygments_lexer": "ipython3",
   "version": "3.10.9"
  }
 },
 "nbformat": 4,
 "nbformat_minor": 5
}
